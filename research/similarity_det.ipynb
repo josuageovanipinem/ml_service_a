{
 "cells": [
  {
   "cell_type": "code",
   "execution_count": 30,
   "id": "0f7397b4",
   "metadata": {},
   "outputs": [],
   "source": [
    "import requests\n",
    "from urllib.parse import urlparse, urljoin\n",
    "from bs4 import BeautifulSoup\n",
    "from sklearn.feature_extraction.text import TfidfVectorizer\n",
    "from sklearn.metrics.pairwise import cosine_similarity\n",
    "import os"
   ]
  },
  {
   "cell_type": "code",
   "execution_count": 31,
   "id": "5fc3b8b1",
   "metadata": {},
   "outputs": [],
   "source": [
    "url = \"https://csirt.bppt.go.id\"\n",
    "soup = BeautifulSoup(requests.get(url).content, \"html.parser\")\n",
    "data1 = soup.get_text(strip=True)\n",
    "data2 = soup.get_text()"
   ]
  },
  {
   "cell_type": "code",
   "execution_count": 32,
   "id": "f0fcbde0",
   "metadata": {},
   "outputs": [],
   "source": [
    "with open (\"kemarin.txt\", \"w\") as f:\n",
    "    f.write(data1)"
   ]
  },
  {
   "cell_type": "code",
   "execution_count": 33,
   "id": "f6297287",
   "metadata": {},
   "outputs": [],
   "source": [
    "with open (\"sekarang.txt\", \"w\") as f:\n",
    "    f.write(data1)"
   ]
  },
  {
   "cell_type": "code",
   "execution_count": 34,
   "id": "fde057ed",
   "metadata": {},
   "outputs": [],
   "source": [
    "data_files = [doc for doc in os.listdir() if doc.endswith('.txt')]\n",
    "data_notes =[open(File).read() for File in  data_files]\n",
    "vectorize = lambda Text: TfidfVectorizer().fit_transform(Text).toarray()\n",
    "similarity = lambda doc1, doc2: cosine_similarity([doc1, doc2])"
   ]
  },
  {
   "cell_type": "code",
   "execution_count": 35,
   "id": "99aaf606",
   "metadata": {},
   "outputs": [],
   "source": [
    "vectors = vectorize(data_notes)\n",
    "s_vectors = list(zip(data_files, vectors))"
   ]
  },
  {
   "cell_type": "code",
   "execution_count": 36,
   "id": "35e455cf",
   "metadata": {},
   "outputs": [],
   "source": [
    "def check_similarity():\n",
    "    similarity_results = set()\n",
    "    global s_vectors\n",
    "    for data_a, text_vector_a in s_vectors:\n",
    "        new_vectors =s_vectors.copy()\n",
    "        current_index = new_vectors.index((data_a, text_vector_a))\n",
    "        del new_vectors[current_index]\n",
    "        for data_b , text_vector_b in new_vectors:\n",
    "            sim_score = similarity(text_vector_a, text_vector_b)[0][1]\n",
    "            data_pair = sorted((data_a, data_b))\n",
    "            score = (data_pair[0], data_pair[1],sim_score)\n",
    "            similarity_results.add(score)\n",
    "    return similarity_results\n"
   ]
  },
  {
   "cell_type": "code",
   "execution_count": 37,
   "id": "c33a100f",
   "metadata": {},
   "outputs": [
    {
     "name": "stdout",
     "output_type": "stream",
     "text": [
      "('base.txt', 'kemarin.txt', 1.0000000000000004)\n",
      "('kemarin.txt', 'sekarang.txt', 1.0000000000000004)\n",
      "('base.txt', 'sekarang.txt', 1.0000000000000004)\n"
     ]
    }
   ],
   "source": [
    "for data in check_similarity():\n",
    "    print(data)"
   ]
  },
  {
   "cell_type": "code",
   "execution_count": 38,
   "id": "f26291f9",
   "metadata": {},
   "outputs": [],
   "source": [
    "def check_kemarin_sekarang():\n",
    "    data_eksisting = check_similarity()\n",
    "    if list(data_eksisting)[0][2] < 0.85:\n",
    "        return(\"false\")"
   ]
  },
  {
   "cell_type": "code",
   "execution_count": null,
   "id": "5212a1f7",
   "metadata": {},
   "outputs": [],
   "source": []
  },
  {
   "cell_type": "code",
   "execution_count": null,
   "id": "c262a6ea",
   "metadata": {},
   "outputs": [],
   "source": []
  }
 ],
 "metadata": {
  "kernelspec": {
   "display_name": "venv",
   "language": "python",
   "name": "venv"
  },
  "language_info": {
   "codemirror_mode": {
    "name": "ipython",
    "version": 3
   },
   "file_extension": ".py",
   "mimetype": "text/x-python",
   "name": "python",
   "nbconvert_exporter": "python",
   "pygments_lexer": "ipython3",
   "version": "3.6.9"
  }
 },
 "nbformat": 4,
 "nbformat_minor": 5
}
